{
  "nbformat": 4,
  "nbformat_minor": 0,
  "metadata": {
    "colab": {
      "provenance": [],
      "gpuType": "T4",
      "authorship_tag": "ABX9TyOWw6KP9PPiRT/LzaoA8Djo",
      "include_colab_link": true
    },
    "kernelspec": {
      "name": "python3",
      "display_name": "Python 3"
    },
    "language_info": {
      "name": "python"
    },
    "widgets": {
      "application/vnd.jupyter.widget-state+json": {
        "e860f3f0cd804ffca1b95c6bac60ef53": {
          "model_module": "@jupyter-widgets/controls",
          "model_name": "HBoxModel",
          "model_module_version": "1.5.0",
          "state": {
            "_dom_classes": [],
            "_model_module": "@jupyter-widgets/controls",
            "_model_module_version": "1.5.0",
            "_model_name": "HBoxModel",
            "_view_count": null,
            "_view_module": "@jupyter-widgets/controls",
            "_view_module_version": "1.5.0",
            "_view_name": "HBoxView",
            "box_style": "",
            "children": [
              "IPY_MODEL_519417a463a542e2bebb183d6c9c6ecd",
              "IPY_MODEL_a72189c03e8f44abb044f0783b88356f",
              "IPY_MODEL_771c6911a82d4c9982b9c4bef2e7fbd5"
            ],
            "layout": "IPY_MODEL_feb6681235b44a258bf05ffea539820a"
          }
        },
        "519417a463a542e2bebb183d6c9c6ecd": {
          "model_module": "@jupyter-widgets/controls",
          "model_name": "HTMLModel",
          "model_module_version": "1.5.0",
          "state": {
            "_dom_classes": [],
            "_model_module": "@jupyter-widgets/controls",
            "_model_module_version": "1.5.0",
            "_model_name": "HTMLModel",
            "_view_count": null,
            "_view_module": "@jupyter-widgets/controls",
            "_view_module_version": "1.5.0",
            "_view_name": "HTMLView",
            "description": "",
            "description_tooltip": null,
            "layout": "IPY_MODEL_b7b5609563f3425fa612dc83a671bf2b",
            "placeholder": "​",
            "style": "IPY_MODEL_fd08dcc2785a4e688634e5237e259efb",
            "value": "100%"
          }
        },
        "a72189c03e8f44abb044f0783b88356f": {
          "model_module": "@jupyter-widgets/controls",
          "model_name": "FloatProgressModel",
          "model_module_version": "1.5.0",
          "state": {
            "_dom_classes": [],
            "_model_module": "@jupyter-widgets/controls",
            "_model_module_version": "1.5.0",
            "_model_name": "FloatProgressModel",
            "_view_count": null,
            "_view_module": "@jupyter-widgets/controls",
            "_view_module_version": "1.5.0",
            "_view_name": "ProgressView",
            "bar_style": "success",
            "description": "",
            "description_tooltip": null,
            "layout": "IPY_MODEL_cbabdb300a904266acdad3687b77ea02",
            "max": 3,
            "min": 0,
            "orientation": "horizontal",
            "style": "IPY_MODEL_4b88ff099b054600aa91efd9230a6bf9",
            "value": 3
          }
        },
        "771c6911a82d4c9982b9c4bef2e7fbd5": {
          "model_module": "@jupyter-widgets/controls",
          "model_name": "HTMLModel",
          "model_module_version": "1.5.0",
          "state": {
            "_dom_classes": [],
            "_model_module": "@jupyter-widgets/controls",
            "_model_module_version": "1.5.0",
            "_model_name": "HTMLModel",
            "_view_count": null,
            "_view_module": "@jupyter-widgets/controls",
            "_view_module_version": "1.5.0",
            "_view_name": "HTMLView",
            "description": "",
            "description_tooltip": null,
            "layout": "IPY_MODEL_f458fe1eae324108828c1433e265af33",
            "placeholder": "​",
            "style": "IPY_MODEL_48bc42be1a1e40c5983e6e9925083408",
            "value": " 3/3 [00:32&lt;00:00, 10.89s/it]"
          }
        },
        "feb6681235b44a258bf05ffea539820a": {
          "model_module": "@jupyter-widgets/base",
          "model_name": "LayoutModel",
          "model_module_version": "1.2.0",
          "state": {
            "_model_module": "@jupyter-widgets/base",
            "_model_module_version": "1.2.0",
            "_model_name": "LayoutModel",
            "_view_count": null,
            "_view_module": "@jupyter-widgets/base",
            "_view_module_version": "1.2.0",
            "_view_name": "LayoutView",
            "align_content": null,
            "align_items": null,
            "align_self": null,
            "border": null,
            "bottom": null,
            "display": null,
            "flex": null,
            "flex_flow": null,
            "grid_area": null,
            "grid_auto_columns": null,
            "grid_auto_flow": null,
            "grid_auto_rows": null,
            "grid_column": null,
            "grid_gap": null,
            "grid_row": null,
            "grid_template_areas": null,
            "grid_template_columns": null,
            "grid_template_rows": null,
            "height": null,
            "justify_content": null,
            "justify_items": null,
            "left": null,
            "margin": null,
            "max_height": null,
            "max_width": null,
            "min_height": null,
            "min_width": null,
            "object_fit": null,
            "object_position": null,
            "order": null,
            "overflow": null,
            "overflow_x": null,
            "overflow_y": null,
            "padding": null,
            "right": null,
            "top": null,
            "visibility": null,
            "width": null
          }
        },
        "b7b5609563f3425fa612dc83a671bf2b": {
          "model_module": "@jupyter-widgets/base",
          "model_name": "LayoutModel",
          "model_module_version": "1.2.0",
          "state": {
            "_model_module": "@jupyter-widgets/base",
            "_model_module_version": "1.2.0",
            "_model_name": "LayoutModel",
            "_view_count": null,
            "_view_module": "@jupyter-widgets/base",
            "_view_module_version": "1.2.0",
            "_view_name": "LayoutView",
            "align_content": null,
            "align_items": null,
            "align_self": null,
            "border": null,
            "bottom": null,
            "display": null,
            "flex": null,
            "flex_flow": null,
            "grid_area": null,
            "grid_auto_columns": null,
            "grid_auto_flow": null,
            "grid_auto_rows": null,
            "grid_column": null,
            "grid_gap": null,
            "grid_row": null,
            "grid_template_areas": null,
            "grid_template_columns": null,
            "grid_template_rows": null,
            "height": null,
            "justify_content": null,
            "justify_items": null,
            "left": null,
            "margin": null,
            "max_height": null,
            "max_width": null,
            "min_height": null,
            "min_width": null,
            "object_fit": null,
            "object_position": null,
            "order": null,
            "overflow": null,
            "overflow_x": null,
            "overflow_y": null,
            "padding": null,
            "right": null,
            "top": null,
            "visibility": null,
            "width": null
          }
        },
        "fd08dcc2785a4e688634e5237e259efb": {
          "model_module": "@jupyter-widgets/controls",
          "model_name": "DescriptionStyleModel",
          "model_module_version": "1.5.0",
          "state": {
            "_model_module": "@jupyter-widgets/controls",
            "_model_module_version": "1.5.0",
            "_model_name": "DescriptionStyleModel",
            "_view_count": null,
            "_view_module": "@jupyter-widgets/base",
            "_view_module_version": "1.2.0",
            "_view_name": "StyleView",
            "description_width": ""
          }
        },
        "cbabdb300a904266acdad3687b77ea02": {
          "model_module": "@jupyter-widgets/base",
          "model_name": "LayoutModel",
          "model_module_version": "1.2.0",
          "state": {
            "_model_module": "@jupyter-widgets/base",
            "_model_module_version": "1.2.0",
            "_model_name": "LayoutModel",
            "_view_count": null,
            "_view_module": "@jupyter-widgets/base",
            "_view_module_version": "1.2.0",
            "_view_name": "LayoutView",
            "align_content": null,
            "align_items": null,
            "align_self": null,
            "border": null,
            "bottom": null,
            "display": null,
            "flex": null,
            "flex_flow": null,
            "grid_area": null,
            "grid_auto_columns": null,
            "grid_auto_flow": null,
            "grid_auto_rows": null,
            "grid_column": null,
            "grid_gap": null,
            "grid_row": null,
            "grid_template_areas": null,
            "grid_template_columns": null,
            "grid_template_rows": null,
            "height": null,
            "justify_content": null,
            "justify_items": null,
            "left": null,
            "margin": null,
            "max_height": null,
            "max_width": null,
            "min_height": null,
            "min_width": null,
            "object_fit": null,
            "object_position": null,
            "order": null,
            "overflow": null,
            "overflow_x": null,
            "overflow_y": null,
            "padding": null,
            "right": null,
            "top": null,
            "visibility": null,
            "width": null
          }
        },
        "4b88ff099b054600aa91efd9230a6bf9": {
          "model_module": "@jupyter-widgets/controls",
          "model_name": "ProgressStyleModel",
          "model_module_version": "1.5.0",
          "state": {
            "_model_module": "@jupyter-widgets/controls",
            "_model_module_version": "1.5.0",
            "_model_name": "ProgressStyleModel",
            "_view_count": null,
            "_view_module": "@jupyter-widgets/base",
            "_view_module_version": "1.2.0",
            "_view_name": "StyleView",
            "bar_color": null,
            "description_width": ""
          }
        },
        "f458fe1eae324108828c1433e265af33": {
          "model_module": "@jupyter-widgets/base",
          "model_name": "LayoutModel",
          "model_module_version": "1.2.0",
          "state": {
            "_model_module": "@jupyter-widgets/base",
            "_model_module_version": "1.2.0",
            "_model_name": "LayoutModel",
            "_view_count": null,
            "_view_module": "@jupyter-widgets/base",
            "_view_module_version": "1.2.0",
            "_view_name": "LayoutView",
            "align_content": null,
            "align_items": null,
            "align_self": null,
            "border": null,
            "bottom": null,
            "display": null,
            "flex": null,
            "flex_flow": null,
            "grid_area": null,
            "grid_auto_columns": null,
            "grid_auto_flow": null,
            "grid_auto_rows": null,
            "grid_column": null,
            "grid_gap": null,
            "grid_row": null,
            "grid_template_areas": null,
            "grid_template_columns": null,
            "grid_template_rows": null,
            "height": null,
            "justify_content": null,
            "justify_items": null,
            "left": null,
            "margin": null,
            "max_height": null,
            "max_width": null,
            "min_height": null,
            "min_width": null,
            "object_fit": null,
            "object_position": null,
            "order": null,
            "overflow": null,
            "overflow_x": null,
            "overflow_y": null,
            "padding": null,
            "right": null,
            "top": null,
            "visibility": null,
            "width": null
          }
        },
        "48bc42be1a1e40c5983e6e9925083408": {
          "model_module": "@jupyter-widgets/controls",
          "model_name": "DescriptionStyleModel",
          "model_module_version": "1.5.0",
          "state": {
            "_model_module": "@jupyter-widgets/controls",
            "_model_module_version": "1.5.0",
            "_model_name": "DescriptionStyleModel",
            "_view_count": null,
            "_view_module": "@jupyter-widgets/base",
            "_view_module_version": "1.2.0",
            "_view_name": "StyleView",
            "description_width": ""
          }
        }
      }
    },
    "accelerator": "GPU"
  },
  "cells": [
    {
      "cell_type": "markdown",
      "metadata": {
        "id": "view-in-github",
        "colab_type": "text"
      },
      "source": [
        "<a href=\"https://colab.research.google.com/github/pratyaksh12/Computer_Vision_and_CNN/blob/main/03_Computer_Vision_PyTorch.ipynb\" target=\"_parent\"><img src=\"https://colab.research.google.com/assets/colab-badge.svg\" alt=\"Open In Colab\"/></a>"
      ]
    },
    {
      "cell_type": "markdown",
      "source": [
        "#PyTorch Computer Vision"
      ],
      "metadata": {
        "id": "3aqFr7cg8KRB"
      }
    },
    {
      "cell_type": "markdown",
      "source": [
        "##Computer Vision Libraries in PyTorch\n",
        "- torchvision - basic computer Vision Library for PyTorch `look more in the main page`\n",
        "- torchvison.datasets - get datasets and dataloading finction for computer vision here\n",
        "- torchvision.models - pretrained computer vision models that can be levereaged for your own problem\n",
        "- torchvision.transform - to transform the images/ vision data to be suitable for use in ur ML Model\n",
        "- torch.utils.data.Datasets - base dataset class for torchvision\n",
        "- torch.utils.data.Dataloader - creates a python iterable over Datasets"
      ],
      "metadata": {
        "id": "QoGrkTdz8aYf"
      }
    },
    {
      "cell_type": "code",
      "source": [
        "#import torch\n",
        "import torch\n",
        "from torch import nn\n",
        "\n",
        "#import torchvision\n",
        "import torchvision\n",
        "from torchvision import datasets\n",
        "from torchvision import transforms\n",
        "from torchvision.transforms import ToTensor\n",
        "\n",
        "#import viasualisation tools\n",
        "import matplotlib.pyplot as plt\n",
        "\n",
        "print(torch.__version__)\n",
        "print(torchvision.__version__)"
      ],
      "metadata": {
        "colab": {
          "base_uri": "https://localhost:8080/"
        },
        "id": "3Ln6XUYw9_my",
        "outputId": "6800992e-c21b-47b3-a0c4-5111a26be2cf"
      },
      "execution_count": 1,
      "outputs": [
        {
          "output_type": "stream",
          "name": "stdout",
          "text": [
            "2.5.1+cu121\n",
            "0.20.1+cu121\n"
          ]
        }
      ]
    },
    {
      "cell_type": "markdown",
      "source": [
        "## 1. Getting a dataset\n",
        "FashionMNIST - is a take on MNIST database"
      ],
      "metadata": {
        "id": "iX5DDGWZ-1qk"
      }
    },
    {
      "cell_type": "code",
      "source": [
        "#getting the training data\n",
        "train_data = datasets.FashionMNIST(\n",
        "    root = \"data\", #Where to download\n",
        "    train = True, #do we want the training dataset\n",
        "    download = True, # do we want to download it?\n",
        "    transform = torchvision.transforms.ToTensor(), # how do we want to transform the data\n",
        "    target_transform = None # how do we want to transform the labels/Targets\n",
        ")\n",
        "#getting the testing data\n",
        "test_data = datasets.FashionMNIST(\n",
        "    root = \"data\",\n",
        "    train = False,\n",
        "    transform = torchvision.transforms.ToTensor(),\n",
        "    target_transform = None,\n",
        "    download = True\n",
        ")"
      ],
      "metadata": {
        "id": "Ge6RINxVAXqe",
        "colab": {
          "base_uri": "https://localhost:8080/"
        },
        "outputId": "1bbe3bf8-c971-4af7-dec5-1fe93ce88a86"
      },
      "execution_count": 2,
      "outputs": [
        {
          "output_type": "stream",
          "name": "stdout",
          "text": [
            "Downloading http://fashion-mnist.s3-website.eu-central-1.amazonaws.com/train-images-idx3-ubyte.gz\n",
            "Downloading http://fashion-mnist.s3-website.eu-central-1.amazonaws.com/train-images-idx3-ubyte.gz to data/FashionMNIST/raw/train-images-idx3-ubyte.gz\n"
          ]
        },
        {
          "output_type": "stream",
          "name": "stderr",
          "text": [
            "100%|██████████| 26.4M/26.4M [00:01<00:00, 13.3MB/s]\n"
          ]
        },
        {
          "output_type": "stream",
          "name": "stdout",
          "text": [
            "Extracting data/FashionMNIST/raw/train-images-idx3-ubyte.gz to data/FashionMNIST/raw\n",
            "\n",
            "Downloading http://fashion-mnist.s3-website.eu-central-1.amazonaws.com/train-labels-idx1-ubyte.gz\n",
            "Downloading http://fashion-mnist.s3-website.eu-central-1.amazonaws.com/train-labels-idx1-ubyte.gz to data/FashionMNIST/raw/train-labels-idx1-ubyte.gz\n"
          ]
        },
        {
          "output_type": "stream",
          "name": "stderr",
          "text": [
            "100%|██████████| 29.5k/29.5k [00:00<00:00, 210kB/s]\n"
          ]
        },
        {
          "output_type": "stream",
          "name": "stdout",
          "text": [
            "Extracting data/FashionMNIST/raw/train-labels-idx1-ubyte.gz to data/FashionMNIST/raw\n",
            "\n",
            "Downloading http://fashion-mnist.s3-website.eu-central-1.amazonaws.com/t10k-images-idx3-ubyte.gz\n",
            "Downloading http://fashion-mnist.s3-website.eu-central-1.amazonaws.com/t10k-images-idx3-ubyte.gz to data/FashionMNIST/raw/t10k-images-idx3-ubyte.gz\n"
          ]
        },
        {
          "output_type": "stream",
          "name": "stderr",
          "text": [
            "100%|██████████| 4.42M/4.42M [00:01<00:00, 3.90MB/s]\n"
          ]
        },
        {
          "output_type": "stream",
          "name": "stdout",
          "text": [
            "Extracting data/FashionMNIST/raw/t10k-images-idx3-ubyte.gz to data/FashionMNIST/raw\n",
            "\n",
            "Downloading http://fashion-mnist.s3-website.eu-central-1.amazonaws.com/t10k-labels-idx1-ubyte.gz\n",
            "Downloading http://fashion-mnist.s3-website.eu-central-1.amazonaws.com/t10k-labels-idx1-ubyte.gz to data/FashionMNIST/raw/t10k-labels-idx1-ubyte.gz\n"
          ]
        },
        {
          "output_type": "stream",
          "name": "stderr",
          "text": [
            "100%|██████████| 5.15k/5.15k [00:00<00:00, 8.73MB/s]"
          ]
        },
        {
          "output_type": "stream",
          "name": "stdout",
          "text": [
            "Extracting data/FashionMNIST/raw/t10k-labels-idx1-ubyte.gz to data/FashionMNIST/raw\n",
            "\n"
          ]
        },
        {
          "output_type": "stream",
          "name": "stderr",
          "text": [
            "\n"
          ]
        }
      ]
    },
    {
      "cell_type": "code",
      "source": [
        "len(train_data), len(test_data)"
      ],
      "metadata": {
        "colab": {
          "base_uri": "https://localhost:8080/"
        },
        "id": "H6f0DR5NAalH",
        "outputId": "755e3598-eeaa-40a8-a85f-6aba5ce1d6f8"
      },
      "execution_count": 3,
      "outputs": [
        {
          "output_type": "execute_result",
          "data": {
            "text/plain": [
              "(60000, 10000)"
            ]
          },
          "metadata": {},
          "execution_count": 3
        }
      ]
    },
    {
      "cell_type": "code",
      "source": [
        "image, label = train_data[0]"
      ],
      "metadata": {
        "id": "Swufdt7RCMLR"
      },
      "execution_count": 4,
      "outputs": []
    },
    {
      "cell_type": "code",
      "source": [
        "image.shape, type(label)"
      ],
      "metadata": {
        "colab": {
          "base_uri": "https://localhost:8080/"
        },
        "id": "FrSSZ-5QDma8",
        "outputId": "f417031d-e08c-4370-dd12-af23852e4510"
      },
      "execution_count": 5,
      "outputs": [
        {
          "output_type": "execute_result",
          "data": {
            "text/plain": [
              "(torch.Size([1, 28, 28]), int)"
            ]
          },
          "metadata": {},
          "execution_count": 5
        }
      ]
    },
    {
      "cell_type": "code",
      "source": [
        "data_classes = train_data.classes\n",
        "print(f\"image shape : {image.shape}, image label : {data_classes[label]}\")"
      ],
      "metadata": {
        "colab": {
          "base_uri": "https://localhost:8080/"
        },
        "id": "WowQgRDPDn2w",
        "outputId": "c1518be1-40df-47c8-959d-02b598037de0"
      },
      "execution_count": 6,
      "outputs": [
        {
          "output_type": "stream",
          "name": "stdout",
          "text": [
            "image shape : torch.Size([1, 28, 28]), image label : Ankle boot\n"
          ]
        }
      ]
    },
    {
      "cell_type": "code",
      "source": [
        "label_data = train_data.class_to_idx\n",
        "label_data"
      ],
      "metadata": {
        "colab": {
          "base_uri": "https://localhost:8080/"
        },
        "id": "d2uDbSdEEBwq",
        "outputId": "b272f199-0515-449c-8539-7947eeaa5a5b"
      },
      "execution_count": 7,
      "outputs": [
        {
          "output_type": "execute_result",
          "data": {
            "text/plain": [
              "{'T-shirt/top': 0,\n",
              " 'Trouser': 1,\n",
              " 'Pullover': 2,\n",
              " 'Dress': 3,\n",
              " 'Coat': 4,\n",
              " 'Sandal': 5,\n",
              " 'Shirt': 6,\n",
              " 'Sneaker': 7,\n",
              " 'Bag': 8,\n",
              " 'Ankle boot': 9}"
            ]
          },
          "metadata": {},
          "execution_count": 7
        }
      ]
    },
    {
      "cell_type": "markdown",
      "source": [
        "##Visualising the images"
      ],
      "metadata": {
        "id": "bOo2b-R1Q-Gy"
      }
    },
    {
      "cell_type": "code",
      "source": [
        "print(\"Hello world\")"
      ],
      "metadata": {
        "colab": {
          "base_uri": "https://localhost:8080/"
        },
        "id": "bKPD7-MJRR2s",
        "outputId": "54da1c69-1de5-41be-a5c7-92c5ffe36e84"
      },
      "execution_count": 8,
      "outputs": [
        {
          "output_type": "stream",
          "name": "stdout",
          "text": [
            "Hello world\n"
          ]
        }
      ]
    },
    {
      "cell_type": "code",
      "source": [
        "image, label = train_data[0]\n",
        "\n",
        "print(f\"inage shape = {image.shape}\")\n",
        "plt.imshow(image.squeeze())\n",
        "plt.title(label)"
      ],
      "metadata": {
        "colab": {
          "base_uri": "https://localhost:8080/",
          "height": 488
        },
        "id": "Rqo2i56-ScgN",
        "outputId": "d4febe58-61ee-4964-dd2e-1af5c20977ff"
      },
      "execution_count": 9,
      "outputs": [
        {
          "output_type": "stream",
          "name": "stdout",
          "text": [
            "inage shape = torch.Size([1, 28, 28])\n"
          ]
        },
        {
          "output_type": "execute_result",
          "data": {
            "text/plain": [
              "Text(0.5, 1.0, '9')"
            ]
          },
          "metadata": {},
          "execution_count": 9
        },
        {
          "output_type": "display_data",
          "data": {
            "text/plain": [
              "<Figure size 640x480 with 1 Axes>"
            ],
            "image/png": "[encoded data removed]"
          },
          "metadata": {}
        }
      ]
    },
    {
      "cell_type": "code",
      "source": [
        "plt.imshow(image.squeeze(), cmap = \"grey\")\n",
        "plt.title(data_classes[label])\n",
        "plt.axis(False)"
      ],
      "metadata": {
        "colab": {
          "base_uri": "https://localhost:8080/",
          "height": 446
        },
        "id": "Hwcgsb6lS85u",
        "outputId": "6d94bf85-b97e-4b73-f141-304335c164dc"
      },
      "execution_count": 10,
      "outputs": [
        {
          "output_type": "execute_result",
          "data": {
            "text/plain": [
              "(-0.5, 27.5, 27.5, -0.5)"
            ]
          },
          "metadata": {},
          "execution_count": 10
        },
        {
          "output_type": "display_data",
          "data": {
            "text/plain": [
              "<Figure size 640x480 with 1 Axes>"
            ],
            "image/png": "[encoded data removed]"
          },
          "metadata": {}
        }
      ]
    },
    {
      "cell_type": "code",
      "source": [
        "#plot more images\n",
        "# torch.manual_seed(42)\n",
        "fig = plt.figure(figsize = (9,9))\n",
        "rows, cols = 4,4\n",
        "for i in range(1, rows * cols + 1):\n",
        "  random_idx = int(torch.randint(0,len(train_data), size = [1]).item())\n",
        "  # print(random_idx)\n",
        "  img, label = train_data[random_idx]\n",
        "  fig.add_subplot(rows, cols, i)\n",
        "  plt.imshow(img.squeeze(), cmap = \"grey\")\n",
        "  plt.title(data_classes[label])\n",
        "  plt.axis(False)"
      ],
      "metadata": {
        "colab": {
          "base_uri": "https://localhost:8080/",
          "height": 752
        },
        "id": "zIERsFLtTTnF",
        "outputId": "4dac7051-031c-4ef0-bded-f8116ca7bc59"
      },
      "execution_count": 11,
      "outputs": [
        {
          "output_type": "display_data",
          "data": {
            "text/plain": [
              "<Figure size 900x900 with 16 Axes>"
            ],
            "image/png": "[encoded data removed]"
          },
          "metadata": {}
        }
      ]
    },
    {
      "cell_type": "markdown",
      "source": [
        "# can we make these model with just pure linear lines or do we need non-Linearity??"
      ],
      "metadata": {
        "id": "GYU_rQ_UUMTA"
      }
    },
    {
      "cell_type": "markdown",
      "source": [
        "##2. Prepare dataLoader\n",
        "\n",
        "our data is in the form of PyTorch Datasets.\n",
        "DataLoader turns our dataset to a python iterator.\n",
        "more specifically we need to turn ur data to batches or mini batches.\n",
        "\n",
        "- Why do we need batches?\n",
        "\n",
        "1. more computationally economical and efficient. The computer may not be able to take a hit of 60000 image sin one go due to storage so we can break it down to 32 batches at a time.\n",
        "\n",
        "2. It gives our neural network more chances to upgrade their gradients per epoch"
      ],
      "metadata": {
        "id": "5ZUN0G-CV46i"
      }
    },
    {
      "cell_type": "code",
      "source": [
        "from torch.utils.data import DataLoader\n",
        "\n",
        "#Setup the batch size\n",
        "BATCH_SIZE = 32\n",
        "\n",
        "#turn datasets into iterables\n",
        "train_dataloader = DataLoader(dataset = train_data, batch_size = BATCH_SIZE, shuffle = True)\n",
        "test_dataloader = DataLoader(dataset = test_data, batch_size = BATCH_SIZE, shuffle = False) # no need to shuffle for testing since model will be using this data for evaluation and not testing\n",
        "\n",
        "train_dataloader, test_dataloader"
      ],
      "metadata": {
        "colab": {
          "base_uri": "https://localhost:8080/"
        },
        "id": "puSFBMsjWG4B",
        "outputId": "2c36b55e-e319-4347-dc53-a00b524a03ce"
      },
      "execution_count": 12,
      "outputs": [
        {
          "output_type": "execute_result",
          "data": {
            "text/plain": [
              "(<torch.utils.data.dataloader.DataLoader at 0x7e908a4777d0>,\n",
              " <torch.utils.data.dataloader.DataLoader at 0x7e908a37ae50>)"
            ]
          },
          "metadata": {},
          "execution_count": 12
        }
      ]
    },
    {
      "cell_type": "code",
      "source": [
        "print(f\"dataloaders = {train_dataloader, test_dataloader}\")\n",
        "print(f\"Lenght of train dataloader = {len(train_dataloader)}, batch size = {train_dataloader.batch_size}\")\n",
        "print(f\"Lenght of train dataloader = {len(test_dataloader)}, batch_size = {test_dataloader.batch_size}\")\n"
      ],
      "metadata": {
        "colab": {
          "base_uri": "https://localhost:8080/"
        },
        "id": "cd9O61J98K57",
        "outputId": "d0c5b2d6-9d0e-49a3-e60a-4d2f02f893a7"
      },
      "execution_count": 13,
      "outputs": [
        {
          "output_type": "stream",
          "name": "stdout",
          "text": [
            "dataloaders = (<torch.utils.data.dataloader.DataLoader object at 0x7e908a4777d0>, <torch.utils.data.dataloader.DataLoader object at 0x7e908a37ae50>)\n",
            "Lenght of train dataloader = 1875, batch size = 32\n",
            "Lenght of train dataloader = 313, batch_size = 32\n"
          ]
        }
      ]
    },
    {
      "cell_type": "code",
      "source": [
        "train_features_batch, train_label_batch = next(iter(train_dataloader))"
      ],
      "metadata": {
        "id": "3xeBtsFv-gCO"
      },
      "execution_count": 14,
      "outputs": []
    },
    {
      "cell_type": "code",
      "source": [
        "train_features_batch.shape, train_label_batch.shape"
      ],
      "metadata": {
        "colab": {
          "base_uri": "https://localhost:8080/"
        },
        "id": "UmEzOCQmCaj4",
        "outputId": "e8c2688f-7386-4af5-a692-b6342fa2dcff"
      },
      "execution_count": 15,
      "outputs": [
        {
          "output_type": "execute_result",
          "data": {
            "text/plain": [
              "(torch.Size([32, 1, 28, 28]), torch.Size([32]))"
            ]
          },
          "metadata": {},
          "execution_count": 15
        }
      ]
    },
    {
      "cell_type": "code",
      "source": [
        "import random\n",
        "torch.manual_seed(42)\n",
        "random_idx = torch.randint(0, len(train_features_batch), size = [1]).item()\n",
        "img, label = train_features_batch[random_idx], train_label_batch[random_idx]"
      ],
      "metadata": {
        "id": "eEx3AY--8T55"
      },
      "execution_count": 16,
      "outputs": []
    },
    {
      "cell_type": "code",
      "source": [
        "plt.imshow(img.squeeze(), cmap = \"grey\")\n",
        "plt.title(data_classes[label])\n",
        "plt.axis(False)\n",
        "print(f\"Label = {label}, image_shape = {img.size()}\")"
      ],
      "metadata": {
        "colab": {
          "base_uri": "https://localhost:8080/",
          "height": 446
        },
        "id": "AerSof_H-V_Y",
        "outputId": "671e2482-7e1a-4132-f312-86255391d8d9"
      },
      "execution_count": 17,
      "outputs": [
        {
          "output_type": "stream",
          "name": "stdout",
          "text": [
            "Label = 1, image_shape = torch.Size([1, 28, 28])\n"
          ]
        },
        {
          "output_type": "display_data",
          "data": {
            "text/plain": [
              "<Figure size 640x480 with 1 Axes>"
            ],
            "image/png": "[encoded data removed]"
          },
          "metadata": {}
        }
      ]
    },
    {
      "cell_type": "markdown",
      "source": [
        "##Make a model for computer vision\n",
        "\n",
        "- When starting to build a series of machine learning modelling experimets, it's best practice to start with a baseline model\n",
        "- A baseline model is a simple model you will try and improve upon with subsequent model/experimets\n",
        "\n",
        "- start simpe and increase complexity slowly"
      ],
      "metadata": {
        "id": "FsMVq-vvEA3e"
      }
    },
    {
      "cell_type": "code",
      "source": [
        "##Create a flatten layer\n",
        "\n",
        "flatten_model = nn.Flatten()"
      ],
      "metadata": {
        "id": "QzTQdrBcFLye"
      },
      "execution_count": 18,
      "outputs": []
    },
    {
      "cell_type": "code",
      "source": [
        "x = train_features_batch[0]\n",
        "x_flatten = flatten_model(x)"
      ],
      "metadata": {
        "id": "oCpfAdHdMjQh"
      },
      "execution_count": 19,
      "outputs": []
    },
    {
      "cell_type": "code",
      "source": [
        "print(f\"original_shape = {x.shape} -> [color_channels, height, width]\")\n",
        "print(f\"flatten_shape = {x_flatten.shape} -> [color_chanels, height * width]\")"
      ],
      "metadata": {
        "colab": {
          "base_uri": "https://localhost:8080/"
        },
        "id": "csuHbJ6zMvzf",
        "outputId": "c14bf770-4972-4a8a-f7b5-6044acdf1bff"
      },
      "execution_count": 20,
      "outputs": [
        {
          "output_type": "stream",
          "name": "stdout",
          "text": [
            "original_shape = torch.Size([1, 28, 28]) -> [color_channels, height, width]\n",
            "flatten_shape = torch.Size([1, 784]) -> [color_chanels, height * width]\n"
          ]
        }
      ]
    },
    {
      "cell_type": "code",
      "source": [
        "from torch import nn\n",
        "\n",
        "class FashionMNISTModelV0(nn.Module):\n",
        "  def __init__(self, input_shape, hidden_units, output_shape):\n",
        "    super().__init__()\n",
        "    self.layer_stack = nn.Sequential(\n",
        "        nn.Flatten(),\n",
        "        nn.Linear(in_features=input_shape, out_features = hidden_units),\n",
        "        # nn.Linear(in_features=hidden_units, out_fetures = hidden_units),\n",
        "        nn.Linear(in_features = hidden_units, out_features = output_shape)\n",
        "    )\n",
        "\n",
        "  def forward(self, x):\n",
        "    return self.layer_stack(x)"
      ],
      "metadata": {
        "id": "azpwYz_lNCZ1"
      },
      "execution_count": 21,
      "outputs": []
    },
    {
      "cell_type": "code",
      "source": [
        "torch.manual_seed(42)\n",
        "\n",
        "model_0 = FashionMNISTModelV0(input_shape = (28 * 28), hidden_units = 10, output_shape = len(data_classes)).to('cpu')"
      ],
      "metadata": {
        "id": "KFEQJ6KWPE5B"
      },
      "execution_count": 22,
      "outputs": []
    },
    {
      "cell_type": "code",
      "source": [
        "dummy_x = torch.rand(size = (1,1,28,28)) # [batch_size, color_channels, width, height]\n",
        "dummy_x.size()"
      ],
      "metadata": {
        "colab": {
          "base_uri": "https://localhost:8080/"
        },
        "id": "JI2o0uxjPK8X",
        "outputId": "c6461dc3-1b21-493e-ede2-0d3cb6575a8b"
      },
      "execution_count": 23,
      "outputs": [
        {
          "output_type": "execute_result",
          "data": {
            "text/plain": [
              "torch.Size([1, 1, 28, 28])"
            ]
          },
          "metadata": {},
          "execution_count": 23
        }
      ]
    },
    {
      "cell_type": "code",
      "source": [
        "model_0.eval()\n",
        "with torch.inference_mode():\n",
        "  y_pred = model_0(dummy_x)\n",
        "print(y_pred.size())\n",
        "print(data_classes[torch.argmax(torch.softmax(y_pred, dim = 1), dim = 1).item()])"
      ],
      "metadata": {
        "colab": {
          "base_uri": "https://localhost:8080/"
        },
        "id": "l4YvOUb6RBhm",
        "outputId": "e2a89b72-5f96-4c9c-eca0-3ca8dda6a1d8"
      },
      "execution_count": 24,
      "outputs": [
        {
          "output_type": "stream",
          "name": "stdout",
          "text": [
            "torch.Size([1, 10])\n",
            "Coat\n"
          ]
        }
      ]
    },
    {
      "cell_type": "code",
      "source": [
        "import requests\n",
        "from pathlib import Path\n",
        "\n",
        "if Path(\"python_helper.py\").is_file():\n",
        "  print(\"file already present\")\n",
        "else:\n",
        "  request = requests.get(\"https://raw.githubusercontent.com/mrdbourke/pytorch-deep-learning/refs/heads/main/helper_functions.py\")\n",
        "  with open('python_helper.py', 'wb') as f:\n",
        "    f.write(request.content)"
      ],
      "metadata": {
        "id": "V0EsAE0yUghU"
      },
      "execution_count": 25,
      "outputs": []
    },
    {
      "cell_type": "code",
      "source": [
        "#setup a loss functuoin and an optimizer\n",
        "\n",
        "loss_fn = nn.CrossEntropyLoss() # we are dealing with a multi class problem\n",
        "optimizer = torch.optim.SGD(model_0.parameters(), lr = 0.1)"
      ],
      "metadata": {
        "id": "x8qmvP71Tx8l"
      },
      "execution_count": 26,
      "outputs": []
    },
    {
      "cell_type": "code",
      "source": [
        "from python_helper import accuracy_fn"
      ],
      "metadata": {
        "id": "K3wWuB3EUfem"
      },
      "execution_count": 27,
      "outputs": []
    },
    {
      "cell_type": "markdown",
      "source": [
        "###Creating function to time our experiment\n",
        "\n",
        "- Machine Learning is very experimental :\n",
        "- you wnat to track two things\n",
        "  1. how fast the model run\n",
        "  2. Model's performance(accuracy)"
      ],
      "metadata": {
        "id": "bvaPMoR2aLnr"
      }
    },
    {
      "cell_type": "code",
      "source": [
        "from timeit import default_timer as timer\n",
        "\n",
        "def print_train_time(start, end, device : torch.device = None):\n",
        "  print(f\"Device is {device}\")\n",
        "  print(f\"Total time taken for the model to complete training = {(end - start):.4f} seconds\")\n",
        "  return end - start\n"
      ],
      "metadata": {
        "id": "dxgcaOgEaydG"
      },
      "execution_count": 28,
      "outputs": []
    },
    {
      "cell_type": "code",
      "source": [
        "start = timer()\n",
        "# yo wassus\n",
        "end = timer()\n",
        "\n",
        "print_train_time(start, end)"
      ],
      "metadata": {
        "colab": {
          "base_uri": "https://localhost:8080/"
        },
        "id": "hjMifbQ7a4dO",
        "outputId": "cc6479b9-9299-45d2-c298-6ceb2a411f28"
      },
      "execution_count": 29,
      "outputs": [
        {
          "output_type": "stream",
          "name": "stdout",
          "text": [
            "Device is None\n",
            "Total time taken for the model to complete training = 0.0000 seconds\n"
          ]
        },
        {
          "output_type": "execute_result",
          "data": {
            "text/plain": [
              "3.9270999991458666e-05"
            ]
          },
          "metadata": {},
          "execution_count": 29
        }
      ]
    },
    {
      "cell_type": "markdown",
      "source": [
        "##Training and testing loop\n",
        "\n",
        "- Loop through epochs\n",
        "- Loop through batches, perform training steps, calculate the train-loss per batch\n",
        "- Loop through the testing batches, perform testing steps, calculate test-loss per batches\n",
        "- print out what's happenin\n"
      ],
      "metadata": {
        "id": "IwzYrhvrb11z"
      }
    },
    {
      "cell_type": "code",
      "source": [
        "len(train_dataloader)"
      ],
      "metadata": {
        "colab": {
          "base_uri": "https://localhost:8080/"
        },
        "id": "XIh4tJ1EqAls",
        "outputId": "f2202b9f-37ad-48f9-cd86-bc16dc41f889"
      },
      "execution_count": 30,
      "outputs": [
        {
          "output_type": "execute_result",
          "data": {
            "text/plain": [
              "1875"
            ]
          },
          "metadata": {},
          "execution_count": 30
        }
      ]
    },
    {
      "cell_type": "code",
      "source": [
        "batches, label = next(iter(train_dataloader))"
      ],
      "metadata": {
        "id": "PJNxj8uBlReM"
      },
      "execution_count": 31,
      "outputs": []
    },
    {
      "cell_type": "code",
      "source": [
        "(len(batches) * 1000)/60000"
      ],
      "metadata": {
        "colab": {
          "base_uri": "https://localhost:8080/"
        },
        "id": "p_VnUfgQmJQJ",
        "outputId": "c8ca120d-80ce-4a1b-ed4a-bad23f1213ad"
      },
      "execution_count": 32,
      "outputs": [
        {
          "output_type": "execute_result",
          "data": {
            "text/plain": [
              "0.5333333333333333"
            ]
          },
          "metadata": {},
          "execution_count": 32
        }
      ]
    },
    {
      "cell_type": "code",
      "source": [
        "# #import tqdm for progress bar\n",
        "\n",
        "# from tqdm.auto import tqdm\n",
        "\n",
        "# #set the seed and set the timer\n",
        "# torch.manual_seed(42)\n",
        "\n",
        "# train_time_start_on_cpu = timer()\n",
        "\n",
        "# #set the epochs\n",
        "# epochs = 3\n",
        "\n",
        "# for epoch in tqdm(range(epochs)):\n",
        "#   print(f\"Epoch : {epoch}\")\n",
        "#   ###Training\n",
        "#   train_loss = 0\n",
        "\n",
        "#   for batch, (X, y) in enumerate(train_dataloader):\n",
        "#     model_0.train()\n",
        "\n",
        "#     #forward pass\n",
        "#     y_logits = model_0(X)\n",
        "\n",
        "#     #Calculate loss(per batch)\n",
        "#     loss = loss_fn(y_logits, y)\n",
        "#     train_loss += loss\n",
        "\n",
        "#     #zero grad the optimizer\n",
        "#     optimizer.zero_grad()\n",
        "\n",
        "#     #Backward pass\n",
        "#     loss.backward()\n",
        "\n",
        "#     #gradient descent\n",
        "#     optimizer.step()\n",
        "#     if batch % 400 == 0:\n",
        "#       print(f\"Looked at {batch * len(X)}/{len(train_dataloader.dataset)} samples\")\n",
        "\n",
        "#   train_loss /= len(train_dataloader)\n",
        "\n",
        "#   ###Test-loss\n",
        "#   test_loss, test_acc = 0,0\n",
        "\n",
        "#   model_0.eval()\n",
        "#   with torch.inference_mode():\n",
        "#     for X_test,y_test in test_dataloader:\n",
        "#       #Forwar pass\n",
        "#       y_logits_test = model_0(X_test)\n",
        "\n",
        "#       #calc collective loss\n",
        "#       loss_test = loss_fn(y_logits_test, y_test)\n",
        "#       test_loss += loss_test\n",
        "\n",
        "\n",
        "#       #Calculate the accuracy\n",
        "#       test_acc += accuracy_fn(y_test, torch.argmax(y_logits_test, dim = 1))\n",
        "\n",
        "#     #Calculate test loss average per batch\n",
        "#     test_loss /= len(test_dataloader)\n",
        "\n",
        "#     #Calculate the test acc per batch\n",
        "#     test_acc /= len(test_dataloader)\n",
        "\n",
        "#   #print what's happening\n",
        "#   print(f\"Training loss = {train_loss:.4f}, test_loss = {test_loss :.4f}, Test_acc = {test_acc :.4f}\")\n",
        "\n",
        "#   #Calculate the training time\n",
        "#   train_time_end_on_cpu = timer()\n",
        "\n",
        "# print_train_time(start = train_time_start_on_cpu, end = train_time_end_on_cpu, device = str(next(model_0.parameters()).device))"
      ],
      "metadata": {
        "id": "gSKXPyHtfAI7"
      },
      "execution_count": 33,
      "outputs": []
    },
    {
      "cell_type": "code",
      "source": [
        "str(next(model_0.parameters()).device)"
      ],
      "metadata": {
        "colab": {
          "base_uri": "https://localhost:8080/",
          "height": 35
        },
        "id": "yGGI0zLmh6vL",
        "outputId": "922c78fd-f3f9-4955-9180-763bce14d42e"
      },
      "execution_count": 34,
      "outputs": [
        {
          "output_type": "execute_result",
          "data": {
            "text/plain": [
              "'cpu'"
            ],
            "application/vnd.google.colaboratory.intrinsic+json": {
              "type": "string"
            }
          },
          "metadata": {},
          "execution_count": 34
        }
      ]
    },
    {
      "cell_type": "markdown",
      "source": [
        "##Evaluating the model - get predictions and get model_0 results\n",
        "\n"
      ],
      "metadata": {
        "id": "TGGunNk1h-oM"
      }
    },
    {
      "cell_type": "code",
      "source": [
        "torch.manual_seed(42)\n",
        "\n",
        "def eval_model(model: torch.nn.Module, dataloader: torch.utils.data.DataLoader, loss_fn: torch.nn.Module, accuracy_fn):\n",
        "  \"\"\"\n",
        "  return a dictionary of model predictions om data_loader\n",
        "  \"\"\"\n",
        "\n",
        "  loss,acc = 0,0\n",
        "  model.eval()\n",
        "  with torch.inference_mode():\n",
        "    for X,y in dataloader:\n",
        "      y_logit = model(X)\n",
        "\n",
        "      ##Accumulate the loss and accuracy\n",
        "      loss += loss_fn(y_logit, y)\n",
        "      acc += accuracy_fn(y, torch.argmax(torch.softmax(y_logit ,dim = 1),dim = 1))\n",
        "\n",
        "\n",
        "    # loss /= len(dataloader)\n",
        "    # acc /= len(dataloader)\n",
        "\n",
        "  return {\"model_name\" : model.__class__.__name__, \"avg_loss_per_batch\": (loss/len(dataloader)).item(), \"avg_acc_per_batch\": (acc/len(dataloader))}\n",
        "\n",
        "model_evaluation = eval_model(model_0, test_dataloader, loss_fn, accuracy_fn)\n",
        "model_evaluation"
      ],
      "metadata": {
        "colab": {
          "base_uri": "https://localhost:8080/"
        },
        "id": "otYCLoep_DzO",
        "outputId": "fe7a1ef8-2362-4b75-b930-536b7e3be7c9"
      },
      "execution_count": 35,
      "outputs": [
        {
          "output_type": "execute_result",
          "data": {
            "text/plain": [
              "{'model_name': 'FashionMNISTModelV0',\n",
              " 'avg_loss_per_batch': 2.3190648555755615,\n",
              " 'avg_acc_per_batch': 10.852635782747603}"
            ]
          },
          "metadata": {},
          "execution_count": 35
        }
      ]
    },
    {
      "cell_type": "code",
      "source": [
        "!nvidia-smi"
      ],
      "metadata": {
        "id": "73N62WOcEpqU",
        "colab": {
          "base_uri": "https://localhost:8080/"
        },
        "outputId": "7365b8d5-9d44-4814-931b-8815b292dadc"
      },
      "execution_count": 36,
      "outputs": [
        {
          "output_type": "stream",
          "name": "stdout",
          "text": [
            "Tue Jan 21 12:49:46 2025       \n",
            "+---------------------------------------------------------------------------------------+\n",
            "| NVIDIA-SMI 535.104.05             Driver Version: 535.104.05   CUDA Version: 12.2     |\n",
            "|-----------------------------------------+----------------------+----------------------+\n",
            "| GPU  Name                 Persistence-M | Bus-Id        Disp.A | Volatile Uncorr. ECC |\n",
            "| Fan  Temp   Perf          Pwr:Usage/Cap |         Memory-Usage | GPU-Util  Compute M. |\n",
            "|                                         |                      |               MIG M. |\n",
            "|=========================================+======================+======================|\n",
            "|   0  Tesla T4                       Off | 00000000:00:04.0 Off |                    0 |\n",
            "| N/A   44C    P8              10W /  70W |      3MiB / 15360MiB |      0%      Default |\n",
            "|                                         |                      |                  N/A |\n",
            "+-----------------------------------------+----------------------+----------------------+\n",
            "                                                                                         \n",
            "+---------------------------------------------------------------------------------------+\n",
            "| Processes:                                                                            |\n",
            "|  GPU   GI   CI        PID   Type   Process name                            GPU Memory |\n",
            "|        ID   ID                                                             Usage      |\n",
            "|=======================================================================================|\n",
            "|  No running processes found                                                           |\n",
            "+---------------------------------------------------------------------------------------+\n"
          ]
        }
      ]
    },
    {
      "cell_type": "code",
      "source": [
        "torch.cuda.is_available()"
      ],
      "metadata": {
        "colab": {
          "base_uri": "https://localhost:8080/"
        },
        "id": "0cUSFB7sGj7Y",
        "outputId": "ecf23c7b-175a-4664-ba65-403ae2a9ec12"
      },
      "execution_count": 37,
      "outputs": [
        {
          "output_type": "execute_result",
          "data": {
            "text/plain": [
              "True"
            ]
          },
          "metadata": {},
          "execution_count": 37
        }
      ]
    },
    {
      "cell_type": "code",
      "source": [
        "device = 'cuda' if torch.cuda.is_available() else 'cpu'"
      ],
      "metadata": {
        "id": "gSqdR-0vz8m9"
      },
      "execution_count": 38,
      "outputs": []
    },
    {
      "cell_type": "code",
      "source": [
        "class ModelFashionMNISTV2(nn.Module):\n",
        "  def __init__(self, input, hidden, output):\n",
        "    super().__init__()\n",
        "\n",
        "    self.linear_stack = nn.Sequential(\n",
        "        nn.Flatten(),\n",
        "        nn.Linear(in_features= input, out_features = hidden),\n",
        "        nn.ReLU(),\n",
        "        nn.Linear(in_features= hidden, out_features = hidden),\n",
        "        nn.ReLU(),\n",
        "        nn.Linear(in_features= hidden, out_features = output)\n",
        "    ).to(device)\n",
        "\n",
        "  def forward(self, x):\n",
        "    return self.linear_stack(x)\n",
        "\n",
        "model_1 = ModelFashionMNISTV2((28 * 28), 10, 10)\n",
        "model_1"
      ],
      "metadata": {
        "colab": {
          "base_uri": "https://localhost:8080/"
        },
        "id": "uBLyj0-PzZOE",
        "outputId": "26e7f09f-6217-47d0-cc34-a88d1be4b8a1"
      },
      "execution_count": 39,
      "outputs": [
        {
          "output_type": "execute_result",
          "data": {
            "text/plain": [
              "ModelFashionMNISTV2(\n",
              "  (linear_stack): Sequential(\n",
              "    (0): Flatten(start_dim=1, end_dim=-1)\n",
              "    (1): Linear(in_features=784, out_features=10, bias=True)\n",
              "    (2): ReLU()\n",
              "    (3): Linear(in_features=10, out_features=10, bias=True)\n",
              "    (4): ReLU()\n",
              "    (5): Linear(in_features=10, out_features=10, bias=True)\n",
              "  )\n",
              ")"
            ]
          },
          "metadata": {},
          "execution_count": 39
        }
      ]
    },
    {
      "cell_type": "code",
      "source": [
        "#Loss and optimizer\n",
        "loss_fn = nn.CrossEntropyLoss()\n",
        "optimizer = torch.optim.SGD(model_1.parameters(), lr = 0.1)"
      ],
      "metadata": {
        "id": "hM0EdsH_zfdo"
      },
      "execution_count": 40,
      "outputs": []
    },
    {
      "cell_type": "code",
      "source": [
        "_,label = next(iter(train_dataloader))\n",
        "type(label)"
      ],
      "metadata": {
        "colab": {
          "base_uri": "https://localhost:8080/"
        },
        "id": "ei0Qdcdj5DQA",
        "outputId": "638478d8-81ab-4cbc-fec3-519932bfeed8"
      },
      "execution_count": 41,
      "outputs": [
        {
          "output_type": "execute_result",
          "data": {
            "text/plain": [
              "torch.Tensor"
            ]
          },
          "metadata": {},
          "execution_count": 41
        }
      ]
    },
    {
      "cell_type": "code",
      "source": [
        "# epochs = 3\n",
        "\n",
        "# for epoch in range(epochs):\n",
        "#   model_1.train()\n",
        "#   total_loss = 0\n",
        "#   #iterate throught the batches\n",
        "#   for batch_no, (X, y) in enumerate(train_dataloader):\n",
        "#     #correct the device\n",
        "#     X = X.to(device)\n",
        "#     y = y.to(device)\n",
        "\n",
        "#     #Forward pass\n",
        "#     y_pred = model_1(X)\n",
        "\n",
        "#     #Calc loss\n",
        "#     loss = loss_fn(y_pred, y)\n",
        "#     total_loss += loss.item()\n",
        "\n",
        "#     #Zero grad\n",
        "#     optimizer.zero_grad()\n",
        "\n",
        "#     #Backward pass\n",
        "#     loss.backward()\n",
        "\n",
        "#     #Gradient descent\n",
        "#     optimizer.step()\n",
        "\n",
        "#     if batch_no % 400 == 0:\n",
        "#       print(f\"Looked at {batch_no * 32}/{len(train_dataloader.dataset)} samples\")\n",
        "\n",
        "#   test_loss = 0\n",
        "#   model_1.eval()\n",
        "#   with torch.inference_mode():\n",
        "#     for X_test,y_test in test_dataloader:\n",
        "#       X_test = X_test.to(device)\n",
        "#       y_test = y_test.to(device)\n",
        "\n",
        "#       #Forward pass\n",
        "#       y_test_pred = model_1(X_test)\n",
        "\n",
        "#       #Calculate loss\n",
        "#       test_loss += loss_fn(y_test_pred, y_test).item()\n",
        "\n",
        "#   total_loss = total_loss / len(train_dataloader)\n",
        "#   test_loss = test_loss / len(test_dataloader)\n",
        "\n",
        "#   print(f\"Epoch = {epoch + 1}, Average Loss = {total_loss :.4f}, Test_loss = {test_loss :.4f}\")\n",
        "\n",
        "\n",
        "\n"
      ],
      "metadata": {
        "id": "bpUtEXb80pF7"
      },
      "execution_count": 42,
      "outputs": []
    },
    {
      "cell_type": "markdown",
      "source": [
        "##Building a CNN"
      ],
      "metadata": {
        "id": "tUWV1ck97h-2"
      }
    },
    {
      "cell_type": "markdown",
      "source": [
        "##Hyper parameters of a Convulautional Layer\n",
        "\n",
        "1. Kernel_size: also referred to as the filter size, referes to the dimension of the sliding window. Having a smaller kernel size means that more data will be extracted and more depth can be achieved. Larger kernels extracts shallow depths but the the result can be produced faster as kernel has to iterate less data.\n",
        "2. Padding: allows the kernel to extend beyond the activation map. Padding conserves the data at the borders of the activation maps leading to a better performance\n",
        "3. Stride: indicates how many pixels should the kernel should be shifted over time"
      ],
      "metadata": {
        "id": "PacAkmWVkdgP"
      }
    },
    {
      "cell_type": "code",
      "source": [
        "#create a Convulutional Neural Network\n",
        "\n",
        "class FashionMNISTModelV2(nn.Module):\n",
        "  def __init__(self, input_units, hidden_units, output_units):\n",
        "    super().__init__()\n",
        "    self.conv_block_1 = nn.Sequential(\n",
        "        nn.Conv2d(in_channels = input_units, out_channels = hidden_units, kernel_size = 3, stride = 1, padding = 1),\n",
        "        nn.ReLU(),\n",
        "        nn.Conv2d(in_channels = hidden_units, out_channels = hidden_units, kernel_size = 3, stride = 1, padding = 1),\n",
        "        nn.ReLU(),\n",
        "        nn.MaxPool2d(kernel_size = 2)\n",
        "    )\n",
        "    self.conv_block_2 = nn.Sequential(\n",
        "        nn.Conv2d(in_channels = hidden_units, out_channels = hidden_units, kernel_size = 3, stride = 1, padding = 1),\n",
        "        nn.ReLU(),\n",
        "        nn.Conv2d(in_channels = hidden_units, out_channels = hidden_units, kernel_size = 3, stride = 1, padding = 1),\n",
        "        nn.ReLU(),\n",
        "        nn.MaxPool2d(kernel_size = 2)\n",
        "    )\n",
        "    self.classifier_layer = nn.Sequential(\n",
        "        nn.Flatten(),\n",
        "        nn.Linear(in_features = hidden_units * 7 * 7 , out_features = output_units)\n",
        "    )\n",
        "\n",
        "  def forward(self, x):\n",
        "    x = self.conv_block_1(x)\n",
        "    # print(x.shape)\n",
        "    x = self.conv_block_2(x)\n",
        "    # print(x.shape)\n",
        "    x = self.classifier_layer(x)\n",
        "    # print(x.shape)\n",
        "    return x"
      ],
      "metadata": {
        "id": "hiJWI-wOfMOY"
      },
      "execution_count": 56,
      "outputs": []
    },
    {
      "cell_type": "code",
      "source": [
        "torch.manual_seed(42)\n",
        "\n",
        "model_cnn = FashionMNISTModelV2(input_units = 1, hidden_units = 10, output_units=len(train_data.classes)).to(device)"
      ],
      "metadata": {
        "id": "IWhHxpUIufbN"
      },
      "execution_count": 57,
      "outputs": []
    },
    {
      "cell_type": "markdown",
      "source": [
        "## steping through nn.conv2d"
      ],
      "metadata": {
        "id": "chgnOiSJu9kU"
      }
    },
    {
      "cell_type": "code",
      "source": [
        "torch.manual_seed(42)\n",
        "model_cnn(image.to(device).unsqueeze(0))"
      ],
      "metadata": {
        "colab": {
          "base_uri": "https://localhost:8080/"
        },
        "id": "KpmqiGdxUakL",
        "outputId": "bdea58ed-234d-4f70-e2e0-b452855889f2"
      },
      "execution_count": 45,
      "outputs": [
        {
          "output_type": "stream",
          "name": "stdout",
          "text": [
            "torch.Size([1, 10, 14, 14])\n",
            "torch.Size([1, 10, 7, 7])\n",
            "torch.Size([1, 10])\n"
          ]
        },
        {
          "output_type": "execute_result",
          "data": {
            "text/plain": [
              "tensor([[ 0.0246, -0.0644,  0.0551, -0.0360, -0.0139,  0.0113, -0.0014, -0.0075,\n",
              "          0.0213,  0.0076]], device='cuda:0', grad_fn=<AddmmBackward0>)"
            ]
          },
          "metadata": {},
          "execution_count": 45
        }
      ]
    },
    {
      "cell_type": "code",
      "source": [
        "torch.manual_seed(42)\n",
        "\n",
        "images = torch.rand(size = (32,3,64,64))\n",
        "test_image = images[0]\n",
        "print(f\"image batch shape {images.shape}\")\n",
        "print(f\"image sample shape {test_image.shape}\")"
      ],
      "metadata": {
        "colab": {
          "base_uri": "https://localhost:8080/"
        },
        "id": "ZzqTlTWvHTTk",
        "outputId": "583211ae-2a55-4caf-b164-e46d784115fb"
      },
      "execution_count": 46,
      "outputs": [
        {
          "output_type": "stream",
          "name": "stdout",
          "text": [
            "image batch shape torch.Size([32, 3, 64, 64])\n",
            "image sample shape torch.Size([3, 64, 64])\n"
          ]
        }
      ]
    },
    {
      "cell_type": "code",
      "source": [
        "##create a songle conv2d layer\n",
        "\n",
        "conv_layer = nn.Conv2d(in_channels = 3, out_channels= 10, kernel_size = 3 , stride= 1, padding= 0)\n",
        "result_data = conv_layer(test_image)\n",
        "\n",
        "print(f\"Original shape of the data = {test_image.shape}\")\n",
        "print(f\"shape of the data after passing through convulutional layer= {result_data.shape}\")"
      ],
      "metadata": {
        "colab": {
          "base_uri": "https://localhost:8080/"
        },
        "id": "UznliYEsHeu6",
        "outputId": "54005f7e-2327-451b-df7e-1c0a8aba477a"
      },
      "execution_count": 47,
      "outputs": [
        {
          "output_type": "stream",
          "name": "stdout",
          "text": [
            "Original shape of the data = torch.Size([3, 64, 64])\n",
            "shape of the data after passing through convulutional layer= torch.Size([10, 62, 62])\n"
          ]
        }
      ]
    },
    {
      "cell_type": "code",
      "source": [
        "##Create a maxpool layer\n",
        "\n",
        "max_pool_layer = nn.MaxPool2d(kernel_size = 2)\n",
        "final_data = max_pool_layer(result_data)\n",
        "\n",
        "# print(f\"Shape of data before = {result_data.shape}\")\n",
        "# print(f\"Shape of data after = {final_data.shape}\")"
      ],
      "metadata": {
        "colab": {
          "base_uri": "https://localhost:8080/"
        },
        "id": "Ddw9kzvlKAE3",
        "outputId": "0ff88f36-3366-4326-c82f-863fb5d52d69"
      },
      "execution_count": 48,
      "outputs": [
        {
          "output_type": "stream",
          "name": "stdout",
          "text": [
            "Shape of data before = torch.Size([10, 62, 62])\n",
            "Shape of data after = torch.Size([10, 31, 31])\n"
          ]
        }
      ]
    },
    {
      "cell_type": "code",
      "source": [
        "##Experimenting with maxpool\n",
        "\n",
        "data = torch.rand(size = (1,2,2)) # initial size -> [1,4,4]\n",
        "max_pool_layer = nn.MaxPool2d(kernel_size = 2)\n",
        "pooled_data = max_pool_layer(data) # expected size -> [1,2,2]\n",
        "print(f\"data inside the tensor = {data}\")\n",
        "print(f\"shape of data before = {data.shape}\")\n",
        "print(f\"data after the pooling of tensor = {pooled_data}\")\n",
        "print(f\"shape of data after pooling = {pooled_data.shape}\")"
      ],
      "metadata": {
        "colab": {
          "base_uri": "https://localhost:8080/"
        },
        "id": "wl0HevlEKawj",
        "outputId": "07473c6f-ac3d-412d-d68d-9d3d9eec8a1f"
      },
      "execution_count": 49,
      "outputs": [
        {
          "output_type": "stream",
          "name": "stdout",
          "text": [
            "data inside the tensor = tensor([[[0.8752, 0.8225],\n",
            "         [0.0145, 0.2480]]])\n",
            "shape of data before = torch.Size([1, 2, 2])\n",
            "data after the pooling of tensor = tensor([[[0.8752]]])\n",
            "shape of data after pooling = torch.Size([1, 1, 1])\n"
          ]
        }
      ]
    },
    {
      "cell_type": "code",
      "source": [
        "#experimenting with a dummy tensor for the model\n",
        "\n"
      ],
      "metadata": {
        "id": "pHy526huM8ZD"
      },
      "execution_count": 50,
      "outputs": []
    },
    {
      "cell_type": "code",
      "source": [
        "image, label = train_data[0]"
      ],
      "metadata": {
        "id": "QLAN1hL3T1xl"
      },
      "execution_count": 51,
      "outputs": []
    },
    {
      "cell_type": "code",
      "source": [
        "plt.imshow(image.squeeze(), cmap = 'gray')\n",
        "plt.title(train_data.classes[label])\n",
        "plt.axis(False)"
      ],
      "metadata": {
        "colab": {
          "base_uri": "https://localhost:8080/",
          "height": 446
        },
        "id": "3vYxKR92T6KA",
        "outputId": "bb0dc6da-aec1-4c63-f95d-9cbad9fabe2a"
      },
      "execution_count": 52,
      "outputs": [
        {
          "output_type": "execute_result",
          "data": {
            "text/plain": [
              "(-0.5, 27.5, 27.5, -0.5)"
            ]
          },
          "metadata": {},
          "execution_count": 52
        },
        {
          "output_type": "display_data",
          "data": {
            "text/plain": [
              "<Figure size 640x480 with 1 Axes>"
            ],
            "image/png": "[encoded data removed]"
          },
          "metadata": {}
        }
      ]
    },
    {
      "cell_type": "markdown",
      "source": [
        "## setup a loss and optimizer function"
      ],
      "metadata": {
        "id": "-oklOySJVj3U"
      }
    },
    {
      "cell_type": "code",
      "source": [
        "from python_helper import accuracy_fn\n",
        "\n",
        "loss_fn = nn.CrossEntropyLoss()\n",
        "optimizer = torch.optim.SGD(model_cnn.parameters(), lr = 0.01)"
      ],
      "metadata": {
        "id": "UTY_YWGqZ4Uc"
      },
      "execution_count": 65,
      "outputs": []
    },
    {
      "cell_type": "code",
      "source": [
        "##Training and testing loop\n",
        "\n",
        "from tqdm.auto import tqdm\n",
        "\n",
        "epochs = 3\n",
        "\n",
        "for epoch in tqdm(range(epochs)):\n",
        "\n",
        "  #training mode\n",
        "  total_loss, total_acc = 0, 0\n",
        "  model_cnn.train()\n",
        "  for batch, (X,y) in enumerate(train_dataloader):\n",
        "    #put X and y to the right device\n",
        "    X = X.to(device)\n",
        "    y = y.to(device)\n",
        "\n",
        "    #Forward pass\n",
        "    y_logits = model_cnn(X)\n",
        "\n",
        "    #Calculate loss\n",
        "    loss = loss_fn(y_logits, y)\n",
        "    total_loss += loss.item()\n",
        "    total_acc += accuracy_fn(y, torch.argmax(torch.softmax(y_logits, dim = 1), dim = 1))\n",
        "\n",
        "    #zero gradding\n",
        "    optimizer.zero_grad()\n",
        "\n",
        "    #backward pass\n",
        "    loss.backward()\n",
        "\n",
        "    #gradient descent\n",
        "    optimizer.step()\n",
        "\n",
        "    if batch % 400 == 0:\n",
        "      print(f\"looked at {batch * 32}/{len(train_dataloader.dataset)} samples\")\n",
        "      print(loss.item())\n",
        "\n",
        "  #Testing\n",
        "  test_loss, test_acc = 0,0\n",
        "  model_cnn.eval()\n",
        "  with torch.inference_mode():\n",
        "    for X_test, y_test in test_dataloader:\n",
        "      X_test = X_test.to(device)\n",
        "      y_test = y_test.to(device)\n",
        "\n",
        "      #Forward pass\n",
        "      y_test_logits = model_cnn(X_test)\n",
        "\n",
        "      #Calculate loss\n",
        "      test_loss += loss_fn(y_test_logits, y_test).item()\n",
        "\n",
        "      #Calculate accuracy\n",
        "      test_acc += accuracy_fn(torch.argmax(torch.softmax(y_test_logits,dim = 1), dim = 1), y_test)\n",
        "\n",
        "\n",
        "  total_loss /= len(train_dataloader)\n",
        "  test_loss /= len(test_dataloader)\n",
        "  test_acc /= len(test_dataloader)\n",
        "\n",
        "  print(f\"Epoch = {epoch + 1}, loss = {total_loss}, testing loss = {test_loss}, accuracy = {test_acc}\")\n",
        "\n",
        "\n",
        "\n",
        "\n",
        "\n",
        "\n"
      ],
      "metadata": {
        "colab": {
          "base_uri": "https://localhost:8080/",
          "height": 638,
          "referenced_widgets": [
            "e860f3f0cd804ffca1b95c6bac60ef53",
            "519417a463a542e2bebb183d6c9c6ecd",
            "a72189c03e8f44abb044f0783b88356f",
            "771c6911a82d4c9982b9c4bef2e7fbd5",
            "feb6681235b44a258bf05ffea539820a",
            "b7b5609563f3425fa612dc83a671bf2b",
            "fd08dcc2785a4e688634e5237e259efb",
            "cbabdb300a904266acdad3687b77ea02",
            "4b88ff099b054600aa91efd9230a6bf9",
            "f458fe1eae324108828c1433e265af33",
            "48bc42be1a1e40c5983e6e9925083408"
          ]
        },
        "id": "1N1oIqfxbaag",
        "outputId": "dbec2b86-bc0b-4675-a6e8-d84498fd50ad"
      },
      "execution_count": 66,
      "outputs": [
        {
          "output_type": "display_data",
          "data": {
            "text/plain": [
              "  0%|          | 0/3 [00:00<?, ?it/s]"
            ],
            "application/vnd.jupyter.widget-view+json": {
              "version_major": 2,
              "version_minor": 0,
              "model_id": "e860f3f0cd804ffca1b95c6bac60ef53"
            }
          },
          "metadata": {}
        },
        {
          "output_type": "stream",
          "name": "stdout",
          "text": [
            "looked at 0/60000 samples\n",
            "0.46422329545021057\n",
            "looked at 12800/60000 samples\n",
            "0.2869965434074402\n",
            "looked at 25600/60000 samples\n",
            "0.2015525996685028\n",
            "looked at 38400/60000 samples\n",
            "0.39375126361846924\n",
            "looked at 51200/60000 samples\n",
            "0.22555537521839142\n",
            "Epoch = 1, loss = 0.35013878868222237, testing loss = 0.3714928673431515, accuracy = 86.77116613418531\n",
            "looked at 0/60000 samples\n",
            "0.33199647068977356\n",
            "looked at 12800/60000 samples\n",
            "0.26703929901123047\n",
            "looked at 25600/60000 samples\n",
            "0.2718278169631958\n",
            "looked at 38400/60000 samples\n",
            "0.2968854606151581\n",
            "looked at 51200/60000 samples\n",
            "0.3939867615699768\n",
            "Epoch = 2, loss = 0.3367304103076458, testing loss = 0.35611203984140205, accuracy = 87.46006389776358\n",
            "looked at 0/60000 samples\n",
            "0.20716162025928497\n",
            "looked at 12800/60000 samples\n",
            "0.12951387465000153\n",
            "looked at 25600/60000 samples\n",
            "0.4601864218711853\n",
            "looked at 38400/60000 samples\n",
            "0.24598118662834167\n",
            "looked at 51200/60000 samples\n",
            "0.30943480134010315\n",
            "Epoch = 3, loss = 0.32607398410936195, testing loss = 0.34381547799934975, accuracy = 87.75958466453675\n"
          ]
        }
      ]
    },
    {
      "cell_type": "code",
      "source": [],
      "metadata": {
        "id": "RxSElV3i6eTy"
      },
      "execution_count": null,
      "outputs": []
    }
  ]
}